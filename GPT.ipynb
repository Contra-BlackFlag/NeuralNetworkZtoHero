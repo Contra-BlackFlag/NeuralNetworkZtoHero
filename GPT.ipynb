{
 "cells": [
  {
   "cell_type": "code",
   "execution_count": 1,
   "id": "7b27ef9009e38743",
   "metadata": {
    "ExecuteTime": {
     "end_time": "2025-06-22T03:42:07.726648Z",
     "start_time": "2025-06-22T03:42:07.718870Z"
    }
   },
   "outputs": [
    {
     "name": "stdout",
     "output_type": "stream",
     "text": [
      "hello world\n"
     ]
    }
   ],
   "source": [
    "print(\"hello world\")"
   ]
  },
  {
   "cell_type": "code",
   "execution_count": 2,
   "id": "56da7f43525944f1",
   "metadata": {},
   "outputs": [],
   "source": [
    "# !wget https://raw.githubusercontent.com/karpathy/char-rnn/master/data/tinyshakespeare/input.txt"
   ]
  },
  {
   "cell_type": "code",
   "execution_count": 3,
   "id": "0357e3c5",
   "metadata": {},
   "outputs": [],
   "source": [
    "import torch"
   ]
  },
  {
   "cell_type": "code",
   "execution_count": 4,
   "id": "14293587",
   "metadata": {},
   "outputs": [],
   "source": [
    "device = 'cpu'"
   ]
  },
  {
   "cell_type": "code",
   "execution_count": 5,
   "id": "17517b2b4026f833",
   "metadata": {
    "ExecuteTime": {
     "end_time": "2025-06-22T03:42:12.525011Z",
     "start_time": "2025-06-22T03:42:12.520766Z"
    }
   },
   "outputs": [],
   "source": [
    "with open(\"input.txt\",\"r\",encoding=\"utf-8\") as f:\n",
    "    text = f.read()"
   ]
  },
  {
   "cell_type": "code",
   "execution_count": 6,
   "id": "35d77b37ecae19f9",
   "metadata": {
    "ExecuteTime": {
     "end_time": "2025-06-22T03:42:16.680403Z",
     "start_time": "2025-06-22T03:42:16.677002Z"
    }
   },
   "outputs": [
    {
     "name": "stdout",
     "output_type": "stream",
     "text": [
      "First Citi\n"
     ]
    }
   ],
   "source": [
    "print(text[:10])"
   ]
  },
  {
   "cell_type": "code",
   "execution_count": 7,
   "id": "b930e9f5265bae39",
   "metadata": {
    "ExecuteTime": {
     "end_time": "2025-06-22T03:42:17.306076Z",
     "start_time": "2025-06-22T03:42:17.301871Z"
    }
   },
   "outputs": [
    {
     "name": "stdout",
     "output_type": "stream",
     "text": [
      "1115394\n"
     ]
    }
   ],
   "source": [
    "print(len(text))"
   ]
  },
  {
   "cell_type": "code",
   "execution_count": 8,
   "id": "be7c8ea07b1deb55",
   "metadata": {
    "ExecuteTime": {
     "end_time": "2025-06-22T03:42:17.850290Z",
     "start_time": "2025-06-22T03:42:17.835359Z"
    }
   },
   "outputs": [],
   "source": [
    "chars = sorted(list(set(text)))"
   ]
  },
  {
   "cell_type": "code",
   "execution_count": 9,
   "id": "82f91411613ed619",
   "metadata": {
    "ExecuteTime": {
     "end_time": "2025-06-22T03:42:18.353504Z",
     "start_time": "2025-06-22T03:42:18.350592Z"
    }
   },
   "outputs": [],
   "source": [
    "vocab_size = len(chars)"
   ]
  },
  {
   "cell_type": "code",
   "execution_count": 10,
   "id": "fcd1ec9749a6c77",
   "metadata": {
    "ExecuteTime": {
     "end_time": "2025-06-22T03:42:18.824370Z",
     "start_time": "2025-06-22T03:42:18.820481Z"
    }
   },
   "outputs": [
    {
     "name": "stdout",
     "output_type": "stream",
     "text": [
      "65\n",
      "\n",
      " !$&',-.3:;?ABCDEFGHIJKLMNOPQRSTUVWXYZabcdefghijklmnopqrstuvwxyz\n"
     ]
    }
   ],
   "source": [
    "print(vocab_size)\n",
    "print(''.join(chars))"
   ]
  },
  {
   "cell_type": "code",
   "execution_count": 11,
   "id": "7f42b1a9fa9c07b2",
   "metadata": {
    "ExecuteTime": {
     "end_time": "2025-06-22T03:42:19.732529Z",
     "start_time": "2025-06-22T03:42:19.725412Z"
    }
   },
   "outputs": [
    {
     "name": "stdout",
     "output_type": "stream",
     "text": [
      "[46, 47, 47, 1, 58, 46, 43, 56, 43]\n",
      "hii there\n"
     ]
    }
   ],
   "source": [
    "#create a mapping from characters to integers\n",
    "stoi= { ch:i for i,ch in enumerate(chars)}\n",
    "itos = {i:ch for i,ch in enumerate(chars) }\n",
    "encode =  lambda s: [stoi[c] for c in s]# encoder: take a string, output a list of integers\n",
    "decode =  lambda l: ''.join([itos[i] for i in l])\n",
    "print(encode(\"hii there\"))\n",
    "print(decode(encode(\"hii there\")))"
   ]
  },
  {
   "cell_type": "code",
   "execution_count": 12,
   "id": "d1a77d07d8069734",
   "metadata": {
    "ExecuteTime": {
     "end_time": "2025-06-22T03:42:20.398968Z",
     "start_time": "2025-06-22T03:42:20.394938Z"
    }
   },
   "outputs": [
    {
     "name": "stdout",
     "output_type": "stream",
     "text": [
      "[1, 2, 3, 4]\n"
     ]
    }
   ],
   "source": [
    "print(encode(\" !$&\"))"
   ]
  },
  {
   "cell_type": "code",
   "execution_count": 13,
   "id": "c2b6815784a264e6",
   "metadata": {
    "ExecuteTime": {
     "end_time": "2025-06-22T03:42:20.867683Z",
     "start_time": "2025-06-22T03:42:20.863729Z"
    }
   },
   "outputs": [
    {
     "name": "stdout",
     "output_type": "stream",
     "text": [
      " !$&\n"
     ]
    }
   ],
   "source": [
    "print(decode(encode(\" !$&\")))"
   ]
  },
  {
   "cell_type": "code",
   "execution_count": 14,
   "id": "28ff8bd6dc47583e",
   "metadata": {
    "ExecuteTime": {
     "end_time": "2025-06-22T03:42:27.191059Z",
     "start_time": "2025-06-22T03:42:21.223725Z"
    }
   },
   "outputs": [],
   "source": [
    "import torch"
   ]
  },
  {
   "cell_type": "code",
   "execution_count": 15,
   "id": "f2b07019f1af6e31",
   "metadata": {
    "ExecuteTime": {
     "end_time": "2025-06-22T03:42:49.307583Z",
     "start_time": "2025-06-22T03:42:49.190139Z"
    }
   },
   "outputs": [],
   "source": [
    "data = torch.tensor(encode(text), dtype=torch.long)"
   ]
  },
  {
   "cell_type": "code",
   "execution_count": 16,
   "id": "819a518160bee25f",
   "metadata": {
    "ExecuteTime": {
     "end_time": "2025-06-22T03:42:50.319738Z",
     "start_time": "2025-06-22T03:42:50.315682Z"
    }
   },
   "outputs": [
    {
     "name": "stdout",
     "output_type": "stream",
     "text": [
      "torch.Size([1115394]) <built-in method type of Tensor object at 0x000001C55DA584B0>\n"
     ]
    }
   ],
   "source": [
    "print(data.shape,data.type)"
   ]
  },
  {
   "cell_type": "code",
   "execution_count": 17,
   "id": "3d3d0f28bf3a9694",
   "metadata": {
    "ExecuteTime": {
     "end_time": "2025-06-22T03:42:50.774282Z",
     "start_time": "2025-06-22T03:42:50.769532Z"
    }
   },
   "outputs": [
    {
     "name": "stdout",
     "output_type": "stream",
     "text": [
      "tensor([18, 47, 56, 57, 58,  1, 15, 47, 58, 47, 64, 43, 52, 10,  0, 14, 43, 44,\n",
      "        53, 56, 43,  1, 61, 43,  1, 54, 56, 53, 41, 43, 43, 42,  1, 39, 52, 63,\n",
      "         1, 44, 59, 56, 58, 46, 43, 56,  6,  1, 46, 43, 39, 56,  1, 51, 43,  1,\n",
      "        57, 54, 43, 39, 49,  8,  0,  0, 13, 50, 50, 10,  0, 31, 54, 43, 39, 49,\n",
      "         6,  1, 57, 54, 43, 39, 49,  8,  0,  0, 18, 47, 56, 57, 58,  1, 15, 47,\n",
      "        58, 47, 64, 43, 52, 10,  0, 37, 53, 59])\n"
     ]
    }
   ],
   "source": [
    "print(data[:100])"
   ]
  },
  {
   "cell_type": "code",
   "execution_count": 18,
   "id": "c7c7d9f4a3bc0609",
   "metadata": {
    "ExecuteTime": {
     "end_time": "2025-06-22T03:42:51.115152Z",
     "start_time": "2025-06-22T03:42:51.111689Z"
    }
   },
   "outputs": [],
   "source": [
    "n = int(0.9*len(data))\n",
    "train_data = data[:n]\n",
    "val_data = data[n:]"
   ]
  },
  {
   "cell_type": "code",
   "execution_count": 19,
   "id": "3e2ca0aa92141468",
   "metadata": {
    "ExecuteTime": {
     "end_time": "2025-06-22T03:42:51.432255Z",
     "start_time": "2025-06-22T03:42:51.425305Z"
    }
   },
   "outputs": [
    {
     "data": {
      "text/plain": [
       "tensor([18, 47, 56, 57, 58,  1, 15, 47, 58])"
      ]
     },
     "execution_count": 19,
     "metadata": {},
     "output_type": "execute_result"
    }
   ],
   "source": [
    "block_size = 8\n",
    "train_data[:block_size+1]"
   ]
  },
  {
   "cell_type": "code",
   "execution_count": 20,
   "id": "327150fb875ce96f",
   "metadata": {
    "ExecuteTime": {
     "end_time": "2025-06-22T03:42:51.723004Z",
     "start_time": "2025-06-22T03:42:51.719968Z"
    }
   },
   "outputs": [],
   "source": [
    "x = train_data[:block_size]"
   ]
  },
  {
   "cell_type": "code",
   "execution_count": 21,
   "id": "87ad4767294169eb",
   "metadata": {
    "ExecuteTime": {
     "end_time": "2025-06-22T03:42:52.133034Z",
     "start_time": "2025-06-22T03:42:52.065040Z"
    }
   },
   "outputs": [],
   "source": [
    "torch.manual_seed(1337)\n",
    "batch_size = 4\n",
    "block_size = 8\n",
    "def get_batch(split) :\n",
    "    data = train_data if split == 'train' else val_data\n",
    "    ix = torch.randint(len(data) - block_size,(batch_size,))\n",
    "    x = torch.stack([data[i:i+block_size] for i in ix])\n",
    "    y = torch.stack([data[i+1:i+block_size+1] for i in ix])\n",
    "    x,y = x.to(device),y.to(device)\n",
    "    return x,y"
   ]
  },
  {
   "cell_type": "code",
   "execution_count": 22,
   "id": "437b3c7cf9ed8c0d",
   "metadata": {
    "ExecuteTime": {
     "end_time": "2025-06-22T03:42:53.038538Z",
     "start_time": "2025-06-22T03:42:53.016799Z"
    }
   },
   "outputs": [
    {
     "name": "stdout",
     "output_type": "stream",
     "text": [
      "torch.Size([4, 8])\n",
      "tensor([[24, 43, 58,  5, 57,  1, 46, 43],\n",
      "        [44, 53, 56,  1, 58, 46, 39, 58],\n",
      "        [52, 58,  1, 58, 46, 39, 58,  1],\n",
      "        [25, 17, 27, 10,  0, 21,  1, 54]])\n",
      "torch.Size([4, 8])\n",
      "tensor([[43, 58,  5, 57,  1, 46, 43, 39],\n",
      "        [53, 56,  1, 58, 46, 39, 58,  1],\n",
      "        [58,  1, 58, 46, 39, 58,  1, 46],\n",
      "        [17, 27, 10,  0, 21,  1, 54, 39]])\n"
     ]
    }
   ],
   "source": [
    "xb,yb = get_batch('train')\n",
    "print(xb.shape)\n",
    "print(xb)\n",
    "print(yb.shape)\n",
    "print(yb)"
   ]
  },
  {
   "cell_type": "code",
   "execution_count": 23,
   "id": "c85bb54495be5e37",
   "metadata": {
    "ExecuteTime": {
     "end_time": "2025-06-22T03:42:54.662221Z",
     "start_time": "2025-06-22T03:42:54.655940Z"
    }
   },
   "outputs": [
    {
     "data": {
      "text/plain": [
       "<torch._C.Generator at 0x1c55a76de70>"
      ]
     },
     "execution_count": 23,
     "metadata": {},
     "output_type": "execute_result"
    }
   ],
   "source": [
    "import torch\n",
    "import torch.nn as nn\n",
    "from torch.nn import functional as F\n",
    "torch.manual_seed(1337)"
   ]
  },
  {
   "cell_type": "code",
   "execution_count": 24,
   "id": "d57cbe1eaba8c7e5",
   "metadata": {
    "ExecuteTime": {
     "end_time": "2025-06-22T03:42:55.911554Z",
     "start_time": "2025-06-22T03:42:55.892025Z"
    }
   },
   "outputs": [],
   "source": [
    "class BigramModel(nn.Module):\n",
    "    def __init__(self,vocab_size):\n",
    "        super().__init__()\n",
    "        self.token_embedding_table = nn.Embedding(vocab_size, vocab_size)\n",
    "\n",
    "    def forward(self,inputs,targets = None):\n",
    "        logits = self.token_embedding_table(inputs)\n",
    "        if targets is None:\n",
    "            loss =None\n",
    "        else:\n",
    "            B,T,C = logits.shape\n",
    "            logits = logits.view(B*T,C)\n",
    "            targets = targets.view(B*T)\n",
    "            loss = F.cross_entropy(logits,targets)\n",
    "        return logits,loss\n",
    "    def generate(self,inputs,max_new_tokens):\n",
    "        for _ in range(max_new_tokens):\n",
    "            logits , loss = self(inputs)\n",
    "            logits = logits[:,-1,:]\n",
    "            probs = F.softmax(logits,dim=1)\n",
    "            inputs_next = torch.multinomial(probs, num_samples=1)\n",
    "            inputs = torch.cat((inputs,inputs_next),dim=1)\n",
    "        return inputs\n",
    "\n",
    "model = BigramModel(vocab_size)\n",
    "m= model.to(device)\n",
    "logits,loss = m(xb,yb) "
   ]
  },
  {
   "cell_type": "code",
   "execution_count": 25,
   "id": "0cd1c0de",
   "metadata": {},
   "outputs": [
    {
     "name": "stdout",
     "output_type": "stream",
     "text": [
      "4.878634929656982\n"
     ]
    }
   ],
   "source": [
    "print(loss.item())"
   ]
  },
  {
   "cell_type": "code",
   "execution_count": 26,
   "id": "def7e168",
   "metadata": {},
   "outputs": [
    {
     "name": "stdout",
     "output_type": "stream",
     "text": [
      "\n",
      "SKIcLT;AcELMoTbvZv C?nq-QE33:CJqkOKH-q;:la!oiywkHjgChzbQ?u!3bLIgwevmyFJGUGp\n",
      "wnYWmnxKWWev-tDqXErVKLgJ\n"
     ]
    }
   ],
   "source": [
    "inputs = torch.zeros((1,1),dtype=torch.long)\n",
    "print(decode(m.generate(inputs=inputs,max_new_tokens=100)[0].tolist()))"
   ]
  },
  {
   "cell_type": "code",
   "execution_count": 27,
   "id": "a5df78c8",
   "metadata": {},
   "outputs": [],
   "source": [
    "optimizer = torch.optim.AdamW(m.parameters(),lr=1e-3)"
   ]
  },
  {
   "cell_type": "code",
   "execution_count": 28,
   "id": "fcc7665c",
   "metadata": {},
   "outputs": [
    {
     "name": "stdout",
     "output_type": "stream",
     "text": [
      "2.382369041442871\n"
     ]
    }
   ],
   "source": [
    "batch_size=32\n",
    "for steps in range(10000):\n",
    "    xb,yb = get_batch('train')\n",
    "    logits,loss = m(xb,yb)\n",
    "    optimizer.zero_grad(set_to_none=True)\n",
    "    loss.backward()\n",
    "    optimizer.step()\n",
    "    \n",
    "print(loss.item())"
   ]
  },
  {
   "cell_type": "code",
   "execution_count": 29,
   "id": "e7407aa3",
   "metadata": {},
   "outputs": [
    {
     "name": "stdout",
     "output_type": "stream",
     "text": [
      "\n",
      "lso br. ave aviasurf my, yxMPZI ivee iuedrd whar ksth y h bora s be hese, woweee; the! KI 'de, ulseecherd d o blllando;LUCEO, oraingofof win!\n",
      "RIfans picspeserer hee tha,\n",
      "TOFonk? me ain ckntoty ded. bo\n"
     ]
    }
   ],
   "source": [
    "\n",
    "print(decode(m.generate(inputs=inputs,max_new_tokens=200)[0].tolist()))"
   ]
  },
  {
   "cell_type": "code",
   "execution_count": 33,
   "id": "12dc6054",
   "metadata": {},
   "outputs": [
    {
     "data": {
      "text/plain": [
       "torch.Size([4, 8, 32])"
      ]
     },
     "execution_count": 33,
     "metadata": {},
     "output_type": "execute_result"
    }
   ],
   "source": [
    "torch.manual_seed(1337)\n",
    "B,T,C = 4,8,32\n",
    "x = torch.randn(B,T,C)\n",
    "x.shape"
   ]
  },
  {
   "cell_type": "code",
   "execution_count": 34,
   "id": "77872698",
   "metadata": {},
   "outputs": [],
   "source": [
    "wei = torch.tril(torch.ones(T,T))\n",
    "wei = wei/wei.sum(1,keepdim=True)\n",
    "xbow = wei @ x"
   ]
  },
  {
   "cell_type": "code",
   "execution_count": 37,
   "id": "70d28667",
   "metadata": {},
   "outputs": [
    {
     "data": {
      "text/plain": [
       "tensor([[[ 1.8077e-01, -6.9988e-02, -3.5962e-01, -9.1520e-01,  6.2577e-01,\n",
       "           2.5510e-02,  9.5451e-01,  6.4349e-02,  3.6115e-01,  1.1679e+00,\n",
       "          -1.3499e+00, -5.1018e-01,  2.3596e-01, -2.3978e-01, -9.2111e-01,\n",
       "           1.5433e+00,  1.3488e+00, -1.3964e-01,  2.8580e-01,  9.6512e-01,\n",
       "          -2.0371e+00,  4.9314e-01,  1.4870e+00,  5.9103e-01,  1.2603e-01,\n",
       "          -1.5627e+00, -1.1601e+00, -3.3484e-01,  4.4777e-01, -8.0164e-01,\n",
       "           1.5236e+00,  2.5086e+00],\n",
       "         [-2.4116e-01, -1.6063e-01,  3.2526e-01, -3.9683e-01,  3.9208e-01,\n",
       "           5.7976e-01, -9.9692e-02, -1.1702e-01, -7.3193e-02,  1.2198e-01,\n",
       "          -4.0159e-01, -1.0025e+00, -4.8488e-01,  1.6602e-01, -7.5923e-01,\n",
       "           4.2481e-01,  1.4972e+00, -4.7132e-01,  8.1860e-01,  3.4460e-01,\n",
       "          -1.7740e+00,  1.2990e+00,  2.1250e+00, -5.7775e-01,  7.8881e-01,\n",
       "          -1.5365e+00, -1.6947e-01, -2.7318e-01,  6.1334e-01,  3.6581e-01,\n",
       "           1.5667e+00,  1.0527e+00],\n",
       "         [-4.3893e-01,  9.2179e-02,  1.9971e-01, -2.8607e-01,  9.5720e-02,\n",
       "           5.4176e-01, -1.5221e-01, -4.3377e-01,  6.2085e-01, -9.7673e-02,\n",
       "          -1.9346e-01, -4.3597e-01, -7.9881e-01,  4.1266e-01, -4.5796e-01,\n",
       "           3.5921e-01,  1.8281e+00, -7.2210e-01,  8.8263e-01,  4.1507e-01,\n",
       "          -1.7138e+00,  4.4242e-01,  1.6468e+00, -4.5054e-01,  6.4084e-01,\n",
       "          -1.1383e+00,  4.5641e-02, -4.3757e-01,  2.6924e-01,  9.8210e-02,\n",
       "           7.1071e-01,  5.6531e-01],\n",
       "         [-7.4593e-01, -2.7215e-01,  1.0840e-01,  2.6009e-02,  7.9677e-02,\n",
       "           2.2085e-01, -1.8861e-01, -3.2104e-01,  4.2133e-01, -1.0661e-01,\n",
       "          -7.1608e-02,  1.9264e-02, -5.6888e-01,  9.4494e-01, -5.0358e-01,\n",
       "          -2.2410e-01,  1.2887e+00, -5.3959e-01,  8.9353e-01, -1.5984e-01,\n",
       "          -1.2436e+00,  4.4647e-01,  7.9352e-01, -1.9141e-01,  9.1839e-01,\n",
       "          -7.8353e-01,  1.1197e-01, -4.9162e-01,  3.7520e-02,  1.5327e-01,\n",
       "           3.9564e-01,  5.7752e-02],\n",
       "         [-1.0078e+00,  1.4777e-01,  3.4742e-01, -6.9219e-02,  3.3317e-01,\n",
       "           5.1487e-01, -1.7578e-01, -5.9330e-01,  3.3174e-01, -7.0480e-02,\n",
       "           1.5306e-01,  1.5099e-01, -3.9377e-01,  6.0651e-01, -2.5417e-01,\n",
       "          -1.7462e-03,  1.4884e+00, -2.3944e-01,  4.0888e-01, -1.8612e-01,\n",
       "          -1.0177e+00,  2.9444e-01,  5.0895e-01,  7.4572e-02,  5.3646e-01,\n",
       "          -5.9283e-01,  3.3455e-01, -4.4020e-01, -1.8142e-01, -8.2378e-03,\n",
       "           6.3469e-01, -9.3697e-02],\n",
       "         [-9.8921e-01,  1.3417e-01,  2.8014e-01,  3.3252e-01, -1.7627e-01,\n",
       "           5.1401e-01, -2.8222e-01, -5.3542e-01,  2.7721e-01,  2.8250e-01,\n",
       "           1.0129e-01,  8.9380e-02, -5.5346e-01,  4.9588e-01, -5.2080e-01,\n",
       "          -2.3227e-01,  1.1828e+00, -3.9329e-01,  3.6482e-01, -1.2738e-01,\n",
       "          -7.2296e-01,  3.9757e-01,  1.3617e-01,  2.7973e-01,  6.0694e-01,\n",
       "          -3.1736e-01,  3.8377e-01, -5.8128e-01, -2.6576e-01,  3.4951e-01,\n",
       "           6.1414e-01,  1.2510e-01],\n",
       "         [-8.2062e-01,  6.6077e-02,  4.9662e-01,  4.8380e-01,  2.9885e-03,\n",
       "           3.5273e-01, -3.0746e-01, -3.7787e-01,  2.4022e-01,  4.8829e-03,\n",
       "           2.4638e-01,  1.5085e-01, -6.5187e-01,  2.8763e-01, -4.5855e-01,\n",
       "          -1.8215e-01,  1.0565e+00, -4.4087e-01,  2.6815e-01, -1.7433e-01,\n",
       "          -5.2767e-01,  4.2752e-01,  2.9381e-01,  3.4441e-01,  5.9226e-01,\n",
       "          -1.4755e-01,  2.8978e-01, -6.0494e-01, -3.1111e-01,  3.5242e-01,\n",
       "           4.4703e-01,  5.0332e-02],\n",
       "         [-7.9077e-01,  3.0213e-02,  4.3624e-01,  3.8511e-01, -1.1831e-03,\n",
       "           4.1134e-01, -2.6898e-01, -3.8656e-01,  3.1274e-01, -1.8545e-01,\n",
       "           2.9257e-01, -1.0111e-01, -6.9260e-01,  2.5958e-01, -4.5808e-01,\n",
       "          -2.1123e-01,  1.1117e+00, -3.9074e-01,  1.3399e-01, -2.9784e-01,\n",
       "          -4.0832e-01,  3.3884e-01,  2.5549e-01,  1.9162e-01,  4.7791e-01,\n",
       "          -1.0623e-01,  1.3727e-01, -6.8542e-01, -1.3233e-01,  6.9874e-02,\n",
       "           3.2521e-01,  1.7912e-01]]])"
      ]
     },
     "execution_count": 37,
     "metadata": {},
     "output_type": "execute_result"
    }
   ],
   "source": [
    "xbow[:1]"
   ]
  },
  {
   "cell_type": "code",
   "execution_count": null,
   "id": "79e5e981",
   "metadata": {},
   "outputs": [],
   "source": []
  }
 ],
 "metadata": {
  "kernelspec": {
   "display_name": "Python 3",
   "language": "python",
   "name": "python3"
  },
  "language_info": {
   "codemirror_mode": {
    "name": "ipython",
    "version": 3
   },
   "file_extension": ".py",
   "mimetype": "text/x-python",
   "name": "python",
   "nbconvert_exporter": "python",
   "pygments_lexer": "ipython3",
   "version": "3.13.1"
  }
 },
 "nbformat": 4,
 "nbformat_minor": 5
}

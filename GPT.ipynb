{
 "cells": [
  {
   "cell_type": "code",
   "id": "initial_id",
   "metadata": {
    "collapsed": true,
    "ExecuteTime": {
     "end_time": "2025-06-20T15:18:37.006124Z",
     "start_time": "2025-06-20T15:18:36.999392Z"
    }
   },
   "source": "print(\"hello world\")",
   "outputs": [
    {
     "name": "stdout",
     "output_type": "stream",
     "text": [
      "hello world\n"
     ]
    }
   ],
   "execution_count": 1
  },
  {
   "metadata": {
    "ExecuteTime": {
     "end_time": "2025-06-18T15:42:05.480687Z",
     "start_time": "2025-06-18T15:42:04.350148Z"
    }
   },
   "cell_type": "code",
   "source": "!wget https://raw.githubusercontent.com/karpathy/char-rnn/master/data/tinyshakespeare/input.txt",
   "id": "27a54b8a20421092",
   "outputs": [
    {
     "name": "stderr",
     "output_type": "stream",
     "text": [
      "--2025-06-18 21:12:04--  https://raw.githubusercontent.com/karpathy/char-rnn/master/data/tinyshakespeare/input.txt\n",
      "Resolving raw.githubusercontent.com (raw.githubusercontent.com)... 2606:50c0:8002::154, 2606:50c0:8003::154, 2606:50c0:8000::154, ...\n",
      "Connecting to raw.githubusercontent.com (raw.githubusercontent.com)|2606:50c0:8002::154|:443... connected.\n",
      "HTTP request sent, awaiting response... 200 OK\n",
      "Length: 1115394 (1.1M) [text/plain]\n",
      "Saving to: 'input.txt'\n",
      "\n",
      "     0K .......... .......... .......... .......... ..........  4%  649K 2s\n",
      "    50K .......... .......... .......... .......... ..........  9% 2.63M 1s\n",
      "   100K .......... .......... .......... .......... .......... 13% 1.03M 1s\n",
      "   150K .......... .......... .......... .......... .......... 18% 5.48M 1s\n",
      "   200K .......... .......... .......... .......... .......... 22% 1.28M 1s\n",
      "   250K .......... .......... .......... .......... .......... 27% 7.35M 1s\n",
      "   300K .......... .......... .......... .......... .......... 32% 4.32M 0s\n",
      "   350K .......... .......... .......... .......... .......... 36% 5.41M 0s\n",
      "   400K .......... .......... .......... .......... .......... 41% 12.2M 0s\n",
      "   450K .......... .......... .......... .......... .......... 45% 1.68M 0s\n",
      "   500K .......... .......... .......... .......... .......... 50% 9.76M 0s\n",
      "   550K .......... .......... .......... .......... .......... 55% 9.69M 0s\n",
      "   600K .......... .......... .......... .......... .......... 59% 15.5M 0s\n",
      "   650K .......... .......... .......... .......... .......... 64% 13.9M 0s\n",
      "   700K .......... .......... .......... .......... .......... 68% 15.1M 0s\n",
      "   750K .......... .......... .......... .......... .......... 73% 13.7M 0s\n",
      "   800K .......... .......... .......... .......... .......... 78% 7.76M 0s\n",
      "   850K .......... .......... .......... .......... .......... 82% 30.7M 0s\n",
      "   900K .......... .......... .......... .......... .......... 87% 13.2M 0s\n",
      "   950K .......... .......... .......... .......... .......... 91% 2.32M 0s\n",
      "  1000K .......... .......... .......... .......... .......... 96% 8.78M 0s\n",
      "  1050K .......... .......... .......... .........            100% 17.2M=0.3s\n",
      "\n",
      "2025-06-18 21:12:05 (3.39 MB/s) - 'input.txt' saved [1115394/1115394]\n",
      "\n"
     ]
    }
   ],
   "execution_count": 2
  },
  {
   "metadata": {
    "ExecuteTime": {
     "end_time": "2025-06-20T15:18:38.101475Z",
     "start_time": "2025-06-20T15:18:38.094403Z"
    }
   },
   "cell_type": "code",
   "source": [
    "with open(\"input.txt\",\"r\",encoding=\"utf-8\") as f:\n",
    "    text = f.read()"
   ],
   "id": "f2d2d6b85bfc4bf8",
   "outputs": [],
   "execution_count": 2
  },
  {
   "metadata": {
    "ExecuteTime": {
     "end_time": "2025-06-20T15:18:38.602671Z",
     "start_time": "2025-06-20T15:18:38.598357Z"
    }
   },
   "cell_type": "code",
   "source": "print(text[:10])",
   "id": "f4d9d0b457a54ab9",
   "outputs": [
    {
     "name": "stdout",
     "output_type": "stream",
     "text": [
      "First Citi\n"
     ]
    }
   ],
   "execution_count": 3
  },
  {
   "metadata": {
    "ExecuteTime": {
     "end_time": "2025-06-20T15:18:39.198394Z",
     "start_time": "2025-06-20T15:18:39.195035Z"
    }
   },
   "cell_type": "code",
   "source": "print(len(text))",
   "id": "df6a2b982a1a5ff2",
   "outputs": [
    {
     "name": "stdout",
     "output_type": "stream",
     "text": [
      "1115394\n"
     ]
    }
   ],
   "execution_count": 4
  },
  {
   "metadata": {
    "ExecuteTime": {
     "end_time": "2025-06-20T15:18:39.691544Z",
     "start_time": "2025-06-20T15:18:39.679362Z"
    }
   },
   "cell_type": "code",
   "source": "chars = sorted(list(set(text)))",
   "id": "c667f7ab55d8c721",
   "outputs": [],
   "execution_count": 5
  },
  {
   "metadata": {
    "ExecuteTime": {
     "end_time": "2025-06-20T15:18:40.086918Z",
     "start_time": "2025-06-20T15:18:40.084062Z"
    }
   },
   "cell_type": "code",
   "source": "vocab_size = len(chars)",
   "id": "7e1bc2ea9d1cd42d",
   "outputs": [],
   "execution_count": 6
  },
  {
   "metadata": {
    "ExecuteTime": {
     "end_time": "2025-06-20T15:18:40.479011Z",
     "start_time": "2025-06-20T15:18:40.475848Z"
    }
   },
   "cell_type": "code",
   "source": [
    "print(vocab_size)\n",
    "print(''.join(chars))"
   ],
   "id": "a743f184c8f98196",
   "outputs": [
    {
     "name": "stdout",
     "output_type": "stream",
     "text": [
      "65\n",
      "\n",
      " !$&',-.3:;?ABCDEFGHIJKLMNOPQRSTUVWXYZabcdefghijklmnopqrstuvwxyz\n"
     ]
    }
   ],
   "execution_count": 7
  },
  {
   "metadata": {
    "ExecuteTime": {
     "end_time": "2025-06-20T15:18:40.918729Z",
     "start_time": "2025-06-20T15:18:40.911213Z"
    }
   },
   "cell_type": "code",
   "source": [
    "#create a mapping from characters to integers\n",
    "stoi= { ch:i for i,ch in enumerate(chars)}\n",
    "itos = {i:ch for i,ch in enumerate(chars) }\n",
    "encode =  lambda s: [stoi[c] for c in s]# encoder: take a string, output a list of integers\n",
    "decode =  lambda l: ''.join([itos[i] for i in l])\n",
    "print(encode(\"hii there\"))\n",
    "print(decode(encode(\"hii there\")))"
   ],
   "id": "18ebc494fe061755",
   "outputs": [
    {
     "name": "stdout",
     "output_type": "stream",
     "text": [
      "[46, 47, 47, 1, 58, 46, 43, 56, 43]\n",
      "hii there\n"
     ]
    }
   ],
   "execution_count": 8
  },
  {
   "metadata": {
    "ExecuteTime": {
     "end_time": "2025-06-20T15:18:41.318713Z",
     "start_time": "2025-06-20T15:18:41.314813Z"
    }
   },
   "cell_type": "code",
   "source": "print(encode(\" !$&\"))",
   "id": "e1b7c315e8747f02",
   "outputs": [
    {
     "name": "stdout",
     "output_type": "stream",
     "text": [
      "[1, 2, 3, 4]\n"
     ]
    }
   ],
   "execution_count": 9
  },
  {
   "metadata": {
    "ExecuteTime": {
     "end_time": "2025-06-20T15:18:41.707322Z",
     "start_time": "2025-06-20T15:18:41.703796Z"
    }
   },
   "cell_type": "code",
   "source": "print(decode(encode(\" !$&\")))",
   "id": "9a023e1affea74c3",
   "outputs": [
    {
     "name": "stdout",
     "output_type": "stream",
     "text": [
      " !$&\n"
     ]
    }
   ],
   "execution_count": 10
  },
  {
   "metadata": {
    "ExecuteTime": {
     "end_time": "2025-06-20T15:18:45.422718Z",
     "start_time": "2025-06-20T15:18:41.984347Z"
    }
   },
   "cell_type": "code",
   "source": "import torch",
   "id": "f1179a37bae6c76b",
   "outputs": [
    {
     "name": "stderr",
     "output_type": "stream",
     "text": [
      "C:\\Users\\pvvis\\PycharmProjects\\PythonProject3\\.venv\\Lib\\site-packages\\torch\\_subclasses\\functional_tensor.py:276: UserWarning: Failed to initialize NumPy: No module named 'numpy' (Triggered internally at C:\\actions-runner\\_work\\pytorch\\pytorch\\pytorch\\torch\\csrc\\utils\\tensor_numpy.cpp:81.)\n",
      "  cpu = _conversion_method_template(device=torch.device(\"cpu\"))\n"
     ]
    }
   ],
   "execution_count": 11
  },
  {
   "metadata": {
    "ExecuteTime": {
     "end_time": "2025-06-20T15:18:45.567159Z",
     "start_time": "2025-06-20T15:18:45.437534Z"
    }
   },
   "cell_type": "code",
   "source": "data = torch.tensor(encode(text), dtype=torch.long)",
   "id": "d9d7f36961d59aba",
   "outputs": [],
   "execution_count": 12
  },
  {
   "metadata": {
    "ExecuteTime": {
     "end_time": "2025-06-20T15:18:45.608296Z",
     "start_time": "2025-06-20T15:18:45.604591Z"
    }
   },
   "cell_type": "code",
   "source": "print(data.shape,data.type)",
   "id": "e80e0f734c8f9c79",
   "outputs": [
    {
     "name": "stdout",
     "output_type": "stream",
     "text": [
      "torch.Size([1115394]) <built-in method type of Tensor object at 0x00000234C5F74820>\n"
     ]
    }
   ],
   "execution_count": 13
  },
  {
   "metadata": {
    "ExecuteTime": {
     "end_time": "2025-06-20T15:18:45.641594Z",
     "start_time": "2025-06-20T15:18:45.637073Z"
    }
   },
   "cell_type": "code",
   "source": "print(data[:100])",
   "id": "437bd244f112e597",
   "outputs": [
    {
     "name": "stdout",
     "output_type": "stream",
     "text": [
      "tensor([18, 47, 56, 57, 58,  1, 15, 47, 58, 47, 64, 43, 52, 10,  0, 14, 43, 44,\n",
      "        53, 56, 43,  1, 61, 43,  1, 54, 56, 53, 41, 43, 43, 42,  1, 39, 52, 63,\n",
      "         1, 44, 59, 56, 58, 46, 43, 56,  6,  1, 46, 43, 39, 56,  1, 51, 43,  1,\n",
      "        57, 54, 43, 39, 49,  8,  0,  0, 13, 50, 50, 10,  0, 31, 54, 43, 39, 49,\n",
      "         6,  1, 57, 54, 43, 39, 49,  8,  0,  0, 18, 47, 56, 57, 58,  1, 15, 47,\n",
      "        58, 47, 64, 43, 52, 10,  0, 37, 53, 59])\n"
     ]
    }
   ],
   "execution_count": 14
  },
  {
   "metadata": {
    "ExecuteTime": {
     "end_time": "2025-06-20T15:18:45.696003Z",
     "start_time": "2025-06-20T15:18:45.692781Z"
    }
   },
   "cell_type": "code",
   "source": [
    "n = int(0.9*len(data))\n",
    "train_data = data[:n]\n",
    "val_data = data[n:]"
   ],
   "id": "93e13dbf2715cbc5",
   "outputs": [],
   "execution_count": 15
  },
  {
   "metadata": {
    "ExecuteTime": {
     "end_time": "2025-06-20T15:18:45.737938Z",
     "start_time": "2025-06-20T15:18:45.730944Z"
    }
   },
   "cell_type": "code",
   "source": [
    "block_size = 8\n",
    "train_data[:block_size+1]"
   ],
   "id": "6d01289c1b51fd1a",
   "outputs": [
    {
     "data": {
      "text/plain": [
       "tensor([18, 47, 56, 57, 58,  1, 15, 47, 58])"
      ]
     },
     "execution_count": 16,
     "metadata": {},
     "output_type": "execute_result"
    }
   ],
   "execution_count": 16
  },
  {
   "metadata": {
    "ExecuteTime": {
     "end_time": "2025-06-20T15:18:45.803062Z",
     "start_time": "2025-06-20T15:18:45.800090Z"
    }
   },
   "cell_type": "code",
   "source": "x = train_data[:block_size]",
   "id": "e056c414ef715e08",
   "outputs": [],
   "execution_count": 17
  },
  {
   "metadata": {
    "ExecuteTime": {
     "end_time": "2025-06-20T15:18:45.859486Z",
     "start_time": "2025-06-20T15:18:45.846735Z"
    }
   },
   "cell_type": "code",
   "source": [
    "torch.manual_seed(1337)\n",
    "batch_size = 4\n",
    "block_size = 8\n",
    "def get_batch(split) :\n",
    "    data = train_data if split == 'train' else val_data\n",
    "    ix = torch.randint(len(data) - block_size,(batch_size,))\n",
    "    x = torch.stack([data[i:i+block_size] for i in ix])\n",
    "    y = torch.stack([data[i+1:i+block_size+1] for i in ix])\n",
    "    return x,y"
   ],
   "id": "e1873e755df72b7c",
   "outputs": [],
   "execution_count": 18
  },
  {
   "metadata": {
    "ExecuteTime": {
     "end_time": "2025-06-20T15:18:45.906199Z",
     "start_time": "2025-06-20T15:18:45.885353Z"
    }
   },
   "cell_type": "code",
   "source": [
    "xb,yb = get_batch('train')\n",
    "print(xb.shape)\n",
    "print(xb)\n",
    "print(yb.shape)\n",
    "print(yb)"
   ],
   "id": "f822fd69983bd90a",
   "outputs": [
    {
     "name": "stdout",
     "output_type": "stream",
     "text": [
      "torch.Size([4, 8])\n",
      "tensor([[24, 43, 58,  5, 57,  1, 46, 43],\n",
      "        [44, 53, 56,  1, 58, 46, 39, 58],\n",
      "        [52, 58,  1, 58, 46, 39, 58,  1],\n",
      "        [25, 17, 27, 10,  0, 21,  1, 54]])\n",
      "torch.Size([4, 8])\n",
      "tensor([[43, 58,  5, 57,  1, 46, 43, 39],\n",
      "        [53, 56,  1, 58, 46, 39, 58,  1],\n",
      "        [58,  1, 58, 46, 39, 58,  1, 46],\n",
      "        [17, 27, 10,  0, 21,  1, 54, 39]])\n"
     ]
    }
   ],
   "execution_count": 19
  },
  {
   "metadata": {
    "ExecuteTime": {
     "end_time": "2025-06-20T15:18:45.989843Z",
     "start_time": "2025-06-20T15:18:45.987413Z"
    }
   },
   "cell_type": "code",
   "source": "",
   "id": "a4f7b5cc792d4e0b",
   "outputs": [],
   "execution_count": null
  },
  {
   "metadata": {},
   "cell_type": "code",
   "outputs": [],
   "execution_count": null,
   "source": "",
   "id": "e31a21f15d76f519"
  }
 ],
 "metadata": {
  "kernelspec": {
   "display_name": "Python 3",
   "language": "python",
   "name": "python3"
  },
  "language_info": {
   "codemirror_mode": {
    "name": "ipython",
    "version": 2
   },
   "file_extension": ".py",
   "mimetype": "text/x-python",
   "name": "python",
   "nbconvert_exporter": "python",
   "pygments_lexer": "ipython2",
   "version": "2.7.6"
  }
 },
 "nbformat": 4,
 "nbformat_minor": 5
}
